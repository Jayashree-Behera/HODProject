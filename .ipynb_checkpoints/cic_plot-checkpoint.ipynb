{
 "cells": [
  {
   "cell_type": "code",
   "execution_count": 1,
   "metadata": {},
   "outputs": [],
   "source": [
    "import numpy as np\n",
    "import matplotlib.pyplot as plt\n",
    "import os\n",
    "\n",
    "%matplotlib inline"
   ]
  },
  {
   "cell_type": "code",
   "execution_count": 2,
   "metadata": {},
   "outputs": [],
   "source": [
    "path = '/home/ajana/CIC/'"
   ]
  },
  {
   "cell_type": "code",
   "execution_count": 3,
   "metadata": {},
   "outputs": [],
   "source": [
    "#for filename in os.listdir(path):\n",
    "#    if filename.endswith('.npy'):\n",
    "#        print (filename)"
   ]
  },
  {
   "cell_type": "code",
   "execution_count": 9,
   "metadata": {},
   "outputs": [
    {
     "data": {
      "text/plain": [
       "63"
      ]
     },
     "execution_count": 9,
     "metadata": {},
     "output_type": "execute_result"
    }
   ],
   "source": [
    "a = np.load('/home/ajana/CIC/cic_galaxies_0001.npy')\n",
    "np.max(a)"
   ]
  },
  {
   "cell_type": "code",
   "execution_count": 6,
   "metadata": {},
   "outputs": [],
   "source": [
    "hist,bin_edges = np.histogram(a,bins=60)"
   ]
  },
  {
   "cell_type": "code",
   "execution_count": 7,
   "metadata": {},
   "outputs": [
    {
     "name": "stdout",
     "output_type": "stream",
     "text": [
      "[6.78468643e-01 1.21692919e-01 6.99587007e-02 4.22167789e-02\n",
      " 2.67544833e-02 1.74128836e-02 1.18983005e-02 8.21720173e-03\n",
      " 5.84132810e-03 4.20631035e-03 3.08329771e-03 2.34207242e-03\n",
      " 1.76357315e-03 1.33477810e-03 1.02096256e-03 7.92758268e-04\n",
      " 5.87919284e-04 4.68968602e-04 3.71813232e-04 2.97191997e-04\n",
      " 2.42611366e-04 1.92740739e-04 1.64296011e-04 1.24491862e-04\n",
      " 9.27224255e-05 7.55447650e-05 5.72588684e-05 4.95935682e-05\n",
      " 4.25747392e-05 4.10047380e-05 3.01994354e-05 3.07535535e-05\n",
      " 2.33653124e-05 1.63464834e-05 1.53306002e-05 9.97412546e-06\n",
      " 1.01588315e-05 5.35647478e-06 3.14000246e-06 2.86294342e-06\n",
      " 5.26412177e-06 3.87882657e-06 2.21647232e-06 4.71000369e-06\n",
      " 3.04764944e-06 1.01588315e-06 1.75470726e-06 1.57000123e-06\n",
      " 2.21647232e-06 5.54118081e-07 1.66235424e-06 7.38824108e-07\n",
      " 1.47764822e-06 4.61765067e-07 7.38824108e-07 1.84706027e-06\n",
      " 1.75470726e-06 5.54118081e-07 1.20058918e-06 2.12411931e-06]\n"
     ]
    }
   ],
   "source": [
    "hist = hist/np.sum(hist)\n",
    "print(hist)"
   ]
  },
  {
   "cell_type": "code",
   "execution_count": 8,
   "metadata": {},
   "outputs": [
    {
     "data": {
      "text/plain": [
       "[<matplotlib.lines.Line2D at 0x7fba0410b750>]"
      ]
     },
     "execution_count": 8,
     "metadata": {},
     "output_type": "execute_result"
    },
    {
     "data": {
      "image/png": "[encoded data removed]",
      "text/plain": [
       "<Figure size 432x288 with 1 Axes>"
      ]
     },
     "metadata": {
      "needs_background": "light"
     },
     "output_type": "display_data"
    }
   ],
   "source": [
    "plt.semilogy(bin_edges[:-1],hist,'o')\n"
   ]
  },
  {
   "cell_type": "code",
   "execution_count": null,
   "metadata": {},
   "outputs": [],
   "source": [
    "y = np.diff(hist/len(a))/np.diff(bin_edges[:-1])"
   ]
  },
  {
   "cell_type": "code",
   "execution_count": null,
   "metadata": {},
   "outputs": [],
   "source": [
    "y"
   ]
  },
  {
   "cell_type": "code",
   "execution_count": null,
   "metadata": {},
   "outputs": [],
   "source": []
  }
 ],
 "metadata": {
  "kernelspec": {
   "display_name": "Python 3",
   "language": "python",
   "name": "python3"
  },
  "language_info": {
   "codemirror_mode": {
    "name": "ipython",
    "version": 3
   },
   "file_extension": ".py",
   "mimetype": "text/x-python",
   "name": "python",
   "nbconvert_exporter": "python",
   "pygments_lexer": "ipython3",
   "version": "3.7.5"
  }
 },
 "nbformat": 4,
 "nbformat_minor": 2
}
