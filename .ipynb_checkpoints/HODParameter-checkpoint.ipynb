{
 "cells": [
  {
   "cell_type": "code",
   "execution_count": 2,
   "metadata": {},
   "outputs": [],
   "source": [
    "#import libraries and modules\n",
    "\n",
    "import numpy as np"
   ]
  },
  {
   "cell_type": "code",
   "execution_count": 2,
   "metadata": {},
   "outputs": [],
   "source": [
    "# create a dictionary for fiduatial values of the HOD parameters (13.08, 14.06, 0.98, 1.13, 0.9)\n",
    "\n",
    "val = {'logMcut_fid':13.08,'logM1_fid':14.06,'sigma_fid':0.98,'kappa_fid':1.13,'alpha_fid':0.9}"
   ]
  },
  {
   "cell_type": "code",
   "execution_count": 3,
   "metadata": {},
   "outputs": [],
   "source": [
    "#np.random.seed(421)"
   ]
  },
  {
   "cell_type": "code",
   "execution_count": 18,
   "metadata": {},
   "outputs": [],
   "source": [
    "dval = {'dlogMcut':np.random.uniform(-0.12,0.12,(5,1)),'dlogM1':np.random.uniform(-0.10,0.10,(5,1)),'dsigma':np.random.uniform(-0.24,0.24,(5,1)),'dkappa':np.random.uniform(-0.38,0.38,(5,1)),'dalpha':np.random.uniform(-0.19,0.19,(5,1))}"
   ]
  },
  {
   "cell_type": "code",
   "execution_count": 5,
   "metadata": {},
   "outputs": [
    {
     "data": {
      "text/plain": [
       "dict_keys(['logMcut', 'logM1', 'sigma', 'kappa', 'alpha'])"
      ]
     },
     "execution_count": 5,
     "metadata": {},
     "output_type": "execute_result"
    }
   ],
   "source": [
    "dval.keys()"
   ]
  },
  {
   "cell_type": "code",
   "execution_count": 6,
   "metadata": {},
   "outputs": [
    {
     "data": {
      "text/plain": [
       "array([[13.19657163],\n",
       "       [13.0898713 ],\n",
       "       [12.99180906],\n",
       "       [13.0110235 ],\n",
       "       [13.10861077]])"
      ]
     },
     "execution_count": 6,
     "metadata": {},
     "output_type": "execute_result"
    }
   ],
   "source": [
    "val['logMcut_fid'] + dval['logMcut']"
   ]
  },
  {
   "cell_type": "code",
   "execution_count": 7,
   "metadata": {},
   "outputs": [],
   "source": [
    "%matplotlib inline\n",
    "import matplotlib.pyplot as plt\n",
    "import seaborn as sns"
   ]
  },
  {
   "cell_type": "code",
   "execution_count": 10,
   "metadata": {},
   "outputs": [
    {
     "data": {
      "text/plain": [
       "(array([2., 0., 0., 0., 1., 1., 0., 0., 0., 1.]),\n",
       " array([12.99180906, 13.01228532, 13.03276158, 13.05323783, 13.07371409,\n",
       "        13.09419035, 13.1146666 , 13.13514286, 13.15561911, 13.17609537,\n",
       "        13.19657163]),\n",
       " <a list of 10 Patch objects>)"
      ]
     },
     "execution_count": 10,
     "metadata": {},
     "output_type": "execute_result"
    },
    {
     "data": {
      "image/png": "[encoded data removed]",
      "text/plain": [
       "<Figure size 720x360 with 1 Axes>"
      ]
     },
     "metadata": {
      "needs_background": "light"
     },
     "output_type": "display_data"
    }
   ],
   "source": [
    "fig = plt.figure(figsize = (10,5))\n",
    "\n",
    "plt.hist(val['logMcut_fid'] + dval['dlogMcut'])"
   ]
  },
  {
   "cell_type": "code",
   "execution_count": 9,
   "metadata": {},
   "outputs": [
    {
     "data": {
      "image/png": "[encoded data removed]",
      "text/plain": [
       "<Figure size 432x288 with 1 Axes>"
      ]
     },
     "metadata": {
      "needs_background": "light"
     },
     "output_type": "display_data"
    }
   ],
   "source": [
    "for k in dval.keys():\n",
    "    sns.distplot(dval[k])"
   ]
  },
  {
   "cell_type": "code",
   "execution_count": 46,
   "metadata": {},
   "outputs": [
    {
     "data": {
      "text/plain": [
       "13.08"
      ]
     },
     "execution_count": 46,
     "metadata": {},
     "output_type": "execute_result"
    }
   ],
   "source": [
    "val['logMcut_fid']"
   ]
  },
  {
   "cell_type": "code",
   "execution_count": 21,
   "metadata": {},
   "outputs": [
    {
     "data": {
      "text/plain": [
       "array([[0.79658958],\n",
       "       [0.8302224 ],\n",
       "       [1.08232577],\n",
       "       [0.88137925],\n",
       "       [0.79794593]])"
      ]
     },
     "execution_count": 21,
     "metadata": {},
     "output_type": "execute_result"
    }
   ],
   "source": [
    "val['alpha_fid']+dval['dalpha']"
   ]
  },
  {
   "cell_type": "code",
   "execution_count": 20,
   "metadata": {},
   "outputs": [
    {
     "ename": "TypeError",
     "evalue": "zip argument #1 must support iteration",
     "output_type": "error",
     "traceback": [
      "\u001b[0;31m---------------------------------------------------------------------------\u001b[0m",
      "\u001b[0;31mTypeError\u001b[0m                                 Traceback (most recent call last)",
      "\u001b[0;32m<ipython-input-20-673c6ce50ce3>\u001b[0m in \u001b[0;36m<module>\u001b[0;34m\u001b[0m\n\u001b[0;32m----> 1\u001b[0;31m \u001b[0mlist\u001b[0m\u001b[0;34m(\u001b[0m\u001b[0mzip\u001b[0m\u001b[0;34m(\u001b[0m\u001b[0mlen\u001b[0m\u001b[0;34m(\u001b[0m\u001b[0mdval\u001b[0m\u001b[0;34m[\u001b[0m\u001b[0;34m'dlogMcut'\u001b[0m\u001b[0;34m]\u001b[0m\u001b[0;34m)\u001b[0m\u001b[0;34m*\u001b[0m\u001b[0mval\u001b[0m\u001b[0;34m[\u001b[0m\u001b[0;34m'logMcut_fid'\u001b[0m\u001b[0;34m]\u001b[0m\u001b[0;34m,\u001b[0m\u001b[0mlen\u001b[0m\u001b[0;34m(\u001b[0m\u001b[0mdval\u001b[0m\u001b[0;34m[\u001b[0m\u001b[0;34m'dlogM1'\u001b[0m\u001b[0;34m]\u001b[0m\u001b[0;34m)\u001b[0m\u001b[0;34m*\u001b[0m\u001b[0;34m[\u001b[0m\u001b[0mval\u001b[0m\u001b[0;34m[\u001b[0m\u001b[0;34m'logM1_fid'\u001b[0m\u001b[0;34m]\u001b[0m\u001b[0;34m]\u001b[0m\u001b[0;34m,\u001b[0m\u001b[0mlen\u001b[0m\u001b[0;34m(\u001b[0m\u001b[0mdval\u001b[0m\u001b[0;34m[\u001b[0m\u001b[0;34m'dsigma'\u001b[0m\u001b[0;34m]\u001b[0m\u001b[0;34m)\u001b[0m\u001b[0;34m*\u001b[0m\u001b[0;34m[\u001b[0m\u001b[0mval\u001b[0m\u001b[0;34m[\u001b[0m\u001b[0;34m'sigma_fid'\u001b[0m\u001b[0;34m]\u001b[0m\u001b[0;34m]\u001b[0m\u001b[0;34m,\u001b[0m\u001b[0mlen\u001b[0m\u001b[0;34m(\u001b[0m\u001b[0mdval\u001b[0m\u001b[0;34m[\u001b[0m\u001b[0;34m'dkappa'\u001b[0m\u001b[0;34m]\u001b[0m\u001b[0;34m)\u001b[0m\u001b[0;34m*\u001b[0m\u001b[0;34m[\u001b[0m\u001b[0mval\u001b[0m\u001b[0;34m[\u001b[0m\u001b[0;34m'kappa_fid'\u001b[0m\u001b[0;34m]\u001b[0m\u001b[0;34m]\u001b[0m\u001b[0;34m,\u001b[0m\u001b[0;34m(\u001b[0m\u001b[0mval\u001b[0m\u001b[0;34m[\u001b[0m\u001b[0;34m'alpha_fid'\u001b[0m\u001b[0;34m]\u001b[0m\u001b[0;34m+\u001b[0m\u001b[0mdval\u001b[0m\u001b[0;34m[\u001b[0m\u001b[0;34m'dalpha'\u001b[0m\u001b[0;34m]\u001b[0m\u001b[0;34m)\u001b[0m\u001b[0;34m)\u001b[0m\u001b[0;34m)\u001b[0m\u001b[0;34m\u001b[0m\u001b[0;34m\u001b[0m\u001b[0m\n\u001b[0m",
      "\u001b[0;31mTypeError\u001b[0m: zip argument #1 must support iteration"
     ]
    }
   ],
   "source": [
    "list(zip(len(dval['dlogMcut'])*val['logMcut_fid'],len(dval['dlogM1'])*[val['logM1_fid']],len(dval['dsigma'])*[val['sigma_fid']],len(dval['dkappa'])*[val['kappa_fid']],(val['alpha_fid']+dval['dalpha'])))"
   ]
  },
  {
   "cell_type": "code",
   "execution_count": 102,
   "metadata": {},
   "outputs": [],
   "source": [
    "arr = {'logMcut':val['logMcut_fid']+dval['dlogMcut'], 'logM1':val['logM1_fid']+dval['dlogM1'], 'sigma':val['sigma_fid']+dval['dsigma'], 'kappa':val['kappa_fid']+dval['dkappa'], 'alpha':val['alpha_fid']+dval['dalpha']}"
   ]
  },
  {
   "cell_type": "code",
   "execution_count": 56,
   "metadata": {},
   "outputs": [
    {
     "data": {
      "text/plain": [
       "dict_keys(['logMcut', 'logM1', 'sigma', 'kappa', 'alpha'])"
      ]
     },
     "execution_count": 56,
     "metadata": {},
     "output_type": "execute_result"
    }
   ],
   "source": [
    "arr.keys()"
   ]
  },
  {
   "cell_type": "code",
   "execution_count": 103,
   "metadata": {},
   "outputs": [],
   "source": [
    "par = np.c_[arr['logMcut'],np.repeat(val['logM1_fid'],5),np.repeat(val['sigma_fid'],5),np.repeat(val['kappa_fid'],5),np.repeat(val['alpha_fid'],5)]\n",
    "\n",
    "    "
   ]
  },
  {
   "cell_type": "code",
   "execution_count": 104,
   "metadata": {},
   "outputs": [
    {
     "data": {
      "text/plain": [
       "array([[13.08865844, 14.06      ,  0.98      ,  1.13      ,  0.9       ],\n",
       "       [13.15178758, 14.06      ,  0.98      ,  1.13      ,  0.9       ],\n",
       "       [13.00443002, 14.06      ,  0.98      ,  1.13      ,  0.9       ],\n",
       "       [12.99262665, 14.06      ,  0.98      ,  1.13      ,  0.9       ],\n",
       "       [13.02001437, 14.06      ,  0.98      ,  1.13      ,  0.9       ]])"
      ]
     },
     "execution_count": 104,
     "metadata": {},
     "output_type": "execute_result"
    }
   ],
   "source": [
    "par"
   ]
  },
  {
   "cell_type": "code",
   "execution_count": 105,
   "metadata": {},
   "outputs": [],
   "source": [
    "par2 = np.c_[np.repeat(val['logMcut_fid'],5),arr['logM1'],np.repeat(val['sigma_fid'],5),np.repeat(val['kappa_fid'],5),np.repeat(val['alpha_fid'],5)]"
   ]
  },
  {
   "cell_type": "code",
   "execution_count": 106,
   "metadata": {},
   "outputs": [
    {
     "data": {
      "text/plain": [
       "array([[13.08      , 14.10801542,  0.98      ,  1.13      ,  0.9       ],\n",
       "       [13.08      , 14.07602181,  0.98      ,  1.13      ,  0.9       ],\n",
       "       [13.08      , 14.06461704,  0.98      ,  1.13      ,  0.9       ],\n",
       "       [13.08      , 14.09505312,  0.98      ,  1.13      ,  0.9       ],\n",
       "       [13.08      , 14.10469054,  0.98      ,  1.13      ,  0.9       ]])"
      ]
     },
     "execution_count": 106,
     "metadata": {},
     "output_type": "execute_result"
    }
   ],
   "source": [
    "par2"
   ]
  },
  {
   "cell_type": "code",
   "execution_count": 107,
   "metadata": {},
   "outputs": [],
   "source": [
    "par = np.vstack([par,par2])"
   ]
  },
  {
   "cell_type": "code",
   "execution_count": 108,
   "metadata": {},
   "outputs": [
    {
     "data": {
      "text/plain": [
       "array([[13.08865844, 14.06      ,  0.98      ,  1.13      ,  0.9       ],\n",
       "       [13.15178758, 14.06      ,  0.98      ,  1.13      ,  0.9       ],\n",
       "       [13.00443002, 14.06      ,  0.98      ,  1.13      ,  0.9       ],\n",
       "       [12.99262665, 14.06      ,  0.98      ,  1.13      ,  0.9       ],\n",
       "       [13.02001437, 14.06      ,  0.98      ,  1.13      ,  0.9       ],\n",
       "       [13.08      , 14.10801542,  0.98      ,  1.13      ,  0.9       ],\n",
       "       [13.08      , 14.07602181,  0.98      ,  1.13      ,  0.9       ],\n",
       "       [13.08      , 14.06461704,  0.98      ,  1.13      ,  0.9       ],\n",
       "       [13.08      , 14.09505312,  0.98      ,  1.13      ,  0.9       ],\n",
       "       [13.08      , 14.10469054,  0.98      ,  1.13      ,  0.9       ]])"
      ]
     },
     "execution_count": 108,
     "metadata": {},
     "output_type": "execute_result"
    }
   ],
   "source": [
    "par"
   ]
  },
  {
   "cell_type": "code",
   "execution_count": 112,
   "metadata": {},
   "outputs": [],
   "source": [
    "par2 = np.c_[np.repeat(val['logMcut_fid'],5),np.repeat(val['logM1_fid'],5),arr['sigma'],np.repeat(val['kappa_fid'],5),np.repeat(val['alpha_fid'],5)]"
   ]
  },
  {
   "cell_type": "code",
   "execution_count": 113,
   "metadata": {},
   "outputs": [],
   "source": [
    "par = np.vstack([par,par2])"
   ]
  },
  {
   "cell_type": "code",
   "execution_count": 114,
   "metadata": {},
   "outputs": [
    {
     "data": {
      "text/plain": [
       "array([[13.08865844, 14.06      ,  0.98      ,  1.13      ,  0.9       ],\n",
       "       [13.15178758, 14.06      ,  0.98      ,  1.13      ,  0.9       ],\n",
       "       [13.00443002, 14.06      ,  0.98      ,  1.13      ,  0.9       ],\n",
       "       [12.99262665, 14.06      ,  0.98      ,  1.13      ,  0.9       ],\n",
       "       [13.02001437, 14.06      ,  0.98      ,  1.13      ,  0.9       ],\n",
       "       [13.08      , 14.10801542,  0.98      ,  1.13      ,  0.9       ],\n",
       "       [13.08      , 14.07602181,  0.98      ,  1.13      ,  0.9       ],\n",
       "       [13.08      , 14.06461704,  0.98      ,  1.13      ,  0.9       ],\n",
       "       [13.08      , 14.09505312,  0.98      ,  1.13      ,  0.9       ],\n",
       "       [13.08      , 14.10469054,  0.98      ,  1.13      ,  0.9       ],\n",
       "       [13.08      , 14.06      ,  1.11994941,  1.13      ,  0.9       ],\n",
       "       [13.08      , 14.06      ,  0.96001653,  1.13      ,  0.9       ],\n",
       "       [13.08      , 14.06      ,  1.00432065,  1.13      ,  0.9       ],\n",
       "       [13.08      , 14.06      ,  0.84692796,  1.13      ,  0.9       ],\n",
       "       [13.08      , 14.06      ,  0.93622288,  1.13      ,  0.9       ],\n",
       "       [13.08      , 14.06      ,  1.11994941,  1.13      ,  0.9       ],\n",
       "       [13.08      , 14.06      ,  0.96001653,  1.13      ,  0.9       ],\n",
       "       [13.08      , 14.06      ,  1.00432065,  1.13      ,  0.9       ],\n",
       "       [13.08      , 14.06      ,  0.84692796,  1.13      ,  0.9       ],\n",
       "       [13.08      , 14.06      ,  0.93622288,  1.13      ,  0.9       ]])"
      ]
     },
     "execution_count": 114,
     "metadata": {},
     "output_type": "execute_result"
    }
   ],
   "source": [
    "par"
   ]
  },
  {
   "cell_type": "code",
   "execution_count": 115,
   "metadata": {},
   "outputs": [],
   "source": [
    "par2 = np.c_[np.repeat(val['logMcut_fid'],5),np.repeat(val['logM1_fid'],5),np.repeat(val['sigma_fid'],5),arr['kappa'],np.repeat(val['alpha_fid'],5)]"
   ]
  },
  {
   "cell_type": "code",
   "execution_count": 116,
   "metadata": {},
   "outputs": [],
   "source": [
    "par = np.vstack([par,par2])"
   ]
  },
  {
   "cell_type": "code",
   "execution_count": 123,
   "metadata": {},
   "outputs": [],
   "source": [
    "par2 = np.c_[np.repeat(val['logMcut_fid'],5),np.repeat(val['logM1_fid'],5),np.repeat(val['sigma_fid'],5),np.repeat(val['kappa_fid'],5),arr['alpha']]"
   ]
  },
  {
   "cell_type": "code",
   "execution_count": 124,
   "metadata": {},
   "outputs": [],
   "source": [
    "par = np.vstack([par,par2])"
   ]
  },
  {
   "cell_type": "code",
   "execution_count": 125,
   "metadata": {},
   "outputs": [
    {
     "data": {
      "text/plain": [
       "array([[13.08865844, 14.06      ,  0.98      ,  1.13      ,  0.9       ],\n",
       "       [13.15178758, 14.06      ,  0.98      ,  1.13      ,  0.9       ],\n",
       "       [13.00443002, 14.06      ,  0.98      ,  1.13      ,  0.9       ],\n",
       "       [12.99262665, 14.06      ,  0.98      ,  1.13      ,  0.9       ],\n",
       "       [13.02001437, 14.06      ,  0.98      ,  1.13      ,  0.9       ],\n",
       "       [13.08      , 14.10801542,  0.98      ,  1.13      ,  0.9       ],\n",
       "       [13.08      , 14.07602181,  0.98      ,  1.13      ,  0.9       ],\n",
       "       [13.08      , 14.06461704,  0.98      ,  1.13      ,  0.9       ],\n",
       "       [13.08      , 14.09505312,  0.98      ,  1.13      ,  0.9       ],\n",
       "       [13.08      , 14.10469054,  0.98      ,  1.13      ,  0.9       ],\n",
       "       [13.08      , 14.06      ,  1.11994941,  1.13      ,  0.9       ],\n",
       "       [13.08      , 14.06      ,  0.96001653,  1.13      ,  0.9       ],\n",
       "       [13.08      , 14.06      ,  1.00432065,  1.13      ,  0.9       ],\n",
       "       [13.08      , 14.06      ,  0.84692796,  1.13      ,  0.9       ],\n",
       "       [13.08      , 14.06      ,  0.93622288,  1.13      ,  0.9       ],\n",
       "       [13.08      , 14.06      ,  1.11994941,  1.13      ,  0.9       ],\n",
       "       [13.08      , 14.06      ,  0.96001653,  1.13      ,  0.9       ],\n",
       "       [13.08      , 14.06      ,  1.00432065,  1.13      ,  0.9       ],\n",
       "       [13.08      , 14.06      ,  0.84692796,  1.13      ,  0.9       ],\n",
       "       [13.08      , 14.06      ,  0.93622288,  1.13      ,  0.9       ],\n",
       "       [13.08      , 14.06      ,  0.98      ,  0.82795675,  0.9       ],\n",
       "       [13.08      , 14.06      ,  0.98      ,  1.0614528 ,  0.9       ],\n",
       "       [13.08      , 14.06      ,  0.98      ,  1.23887645,  0.9       ],\n",
       "       [13.08      , 14.06      ,  0.98      ,  1.19333095,  0.9       ],\n",
       "       [13.08      , 14.06      ,  0.98      ,  0.81743867,  0.9       ],\n",
       "       [13.08      , 14.06      ,  0.98      ,  1.13      ,  0.79658958],\n",
       "       [13.08      , 14.06      ,  0.98      ,  1.13      ,  0.8302224 ],\n",
       "       [13.08      , 14.06      ,  0.98      ,  1.13      ,  1.08232577],\n",
       "       [13.08      , 14.06      ,  0.98      ,  1.13      ,  0.88137925],\n",
       "       [13.08      , 14.06      ,  0.98      ,  1.13      ,  0.79794593],\n",
       "       [13.08      , 14.06      ,  0.98      ,  1.13      ,  0.79658958],\n",
       "       [13.08      , 14.06      ,  0.98      ,  1.13      ,  0.8302224 ],\n",
       "       [13.08      , 14.06      ,  0.98      ,  1.13      ,  1.08232577],\n",
       "       [13.08      , 14.06      ,  0.98      ,  1.13      ,  0.88137925],\n",
       "       [13.08      , 14.06      ,  0.98      ,  1.13      ,  0.79794593]])"
      ]
     },
     "execution_count": 125,
     "metadata": {},
     "output_type": "execute_result"
    }
   ],
   "source": [
    "par"
   ]
  },
  {
   "cell_type": "code",
   "execution_count": 120,
   "metadata": {},
   "outputs": [],
   "source": [
    "import pandas as pd"
   ]
  },
  {
   "cell_type": "code",
   "execution_count": 122,
   "metadata": {},
   "outputs": [],
   "source": [
    "np.savetxt('parameters.txt',par,fmt='%f')"
   ]
  },
  {
   "cell_type": "code",
   "execution_count": 4,
   "metadata": {},
   "outputs": [],
   "source": [
    "par = np.loadtxt('parameters.txt')"
   ]
  },
  {
   "cell_type": "code",
   "execution_count": 5,
   "metadata": {},
   "outputs": [
    {
     "data": {
      "text/plain": [
       "array([[13.088658, 14.06    ,  0.98    ,  1.13    ,  0.9     ],\n",
       "       [13.151788, 14.06    ,  0.98    ,  1.13    ,  0.9     ],\n",
       "       [13.00443 , 14.06    ,  0.98    ,  1.13    ,  0.9     ],\n",
       "       [12.992627, 14.06    ,  0.98    ,  1.13    ,  0.9     ],\n",
       "       [13.020014, 14.06    ,  0.98    ,  1.13    ,  0.9     ],\n",
       "       [13.08    , 14.108015,  0.98    ,  1.13    ,  0.9     ],\n",
       "       [13.08    , 14.076022,  0.98    ,  1.13    ,  0.9     ],\n",
       "       [13.08    , 14.064617,  0.98    ,  1.13    ,  0.9     ],\n",
       "       [13.08    , 14.095053,  0.98    ,  1.13    ,  0.9     ],\n",
       "       [13.08    , 14.104691,  0.98    ,  1.13    ,  0.9     ],\n",
       "       [13.08    , 14.06    ,  1.119949,  1.13    ,  0.9     ],\n",
       "       [13.08    , 14.06    ,  0.960017,  1.13    ,  0.9     ],\n",
       "       [13.08    , 14.06    ,  1.004321,  1.13    ,  0.9     ],\n",
       "       [13.08    , 14.06    ,  0.846928,  1.13    ,  0.9     ],\n",
       "       [13.08    , 14.06    ,  0.936223,  1.13    ,  0.9     ],\n",
       "       [13.08    , 14.06    ,  0.98    ,  0.827957,  0.9     ],\n",
       "       [13.08    , 14.06    ,  0.98    ,  1.061453,  0.9     ],\n",
       "       [13.08    , 14.06    ,  0.98    ,  1.238876,  0.9     ],\n",
       "       [13.08    , 14.06    ,  0.98    ,  1.193331,  0.9     ],\n",
       "       [13.08    , 14.06    ,  0.98    ,  0.817439,  0.9     ],\n",
       "       [13.08    , 14.06    ,  0.98    ,  1.13    ,  0.79659 ],\n",
       "       [13.08    , 14.06    ,  0.98    ,  1.13    ,  0.830222],\n",
       "       [13.08    , 14.06    ,  0.98    ,  1.13    ,  1.082326],\n",
       "       [13.08    , 14.06    ,  0.98    ,  1.13    ,  0.881379],\n",
       "       [13.08    , 14.06    ,  0.98    ,  1.13    ,  0.797946]])"
      ]
     },
     "execution_count": 5,
     "metadata": {},
     "output_type": "execute_result"
    }
   ],
   "source": [
    "par"
   ]
  },
  {
   "cell_type": "code",
   "execution_count": 11,
   "metadata": {},
   "outputs": [],
   "source": [
    "a = par[:5,:1]\n",
    "b = par[5:10,1:2]\n",
    "c = par[10:15,2:3]\n",
    "d = par[15:20,3:4]\n",
    "e = par[20:25,4:5]\n",
    "val = {'logMcut_fid':13.08,'logM1_fid':14.06,'sigma_fid':0.98,'kappa_fid':1.13,'alpha_fid':0.9}"
   ]
  },
  {
   "cell_type": "code",
   "execution_count": 24,
   "metadata": {},
   "outputs": [],
   "source": []
  },
  {
   "cell_type": "code",
   "execution_count": 25,
   "metadata": {},
   "outputs": [],
   "source": []
  },
  {
   "cell_type": "code",
   "execution_count": 26,
   "metadata": {},
   "outputs": [],
   "source": []
  },
  {
   "cell_type": "code",
   "execution_count": 27,
   "metadata": {},
   "outputs": [],
   "source": [
    "par = np.vstack([par,par2])"
   ]
  },
  {
   "cell_type": "code",
   "execution_count": 29,
   "metadata": {},
   "outputs": [],
   "source": [
    "par2 = np.c_[a,np.repeat(val['logM1_fid'],5),np.repeat(val['sigma_fid'],5),d,np.repeat(val['alpha_fid'],5)]"
   ]
  },
  {
   "cell_type": "code",
   "execution_count": 30,
   "metadata": {},
   "outputs": [],
   "source": [
    "par = np.vstack([par,par2])"
   ]
  },
  {
   "cell_type": "code",
   "execution_count": 32,
   "metadata": {},
   "outputs": [],
   "source": [
    "par2 = np.c_[a,np.repeat(val['logM1_fid'],5),np.repeat(val['sigma_fid'],5),np.repeat(val['kappa_fid'],5),e]\n",
    "par = np.vstack([par,par2])"
   ]
  },
  {
   "cell_type": "code",
   "execution_count": 33,
   "metadata": {},
   "outputs": [
    {
     "data": {
      "text/plain": [
       "array([[13.088658, 14.06    ,  0.98    ,  1.13    ,  0.9     ],\n",
       "       [13.151788, 14.06    ,  0.98    ,  1.13    ,  0.9     ],\n",
       "       [13.00443 , 14.06    ,  0.98    ,  1.13    ,  0.9     ],\n",
       "       [12.992627, 14.06    ,  0.98    ,  1.13    ,  0.9     ],\n",
       "       [13.020014, 14.06    ,  0.98    ,  1.13    ,  0.9     ],\n",
       "       [13.08    , 14.108015,  0.98    ,  1.13    ,  0.9     ],\n",
       "       [13.08    , 14.076022,  0.98    ,  1.13    ,  0.9     ],\n",
       "       [13.08    , 14.064617,  0.98    ,  1.13    ,  0.9     ],\n",
       "       [13.08    , 14.095053,  0.98    ,  1.13    ,  0.9     ],\n",
       "       [13.08    , 14.104691,  0.98    ,  1.13    ,  0.9     ],\n",
       "       [13.08    , 14.06    ,  1.119949,  1.13    ,  0.9     ],\n",
       "       [13.08    , 14.06    ,  0.960017,  1.13    ,  0.9     ],\n",
       "       [13.08    , 14.06    ,  1.004321,  1.13    ,  0.9     ],\n",
       "       [13.08    , 14.06    ,  0.846928,  1.13    ,  0.9     ],\n",
       "       [13.08    , 14.06    ,  0.936223,  1.13    ,  0.9     ],\n",
       "       [13.08    , 14.06    ,  0.98    ,  0.827957,  0.9     ],\n",
       "       [13.08    , 14.06    ,  0.98    ,  1.061453,  0.9     ],\n",
       "       [13.08    , 14.06    ,  0.98    ,  1.238876,  0.9     ],\n",
       "       [13.08    , 14.06    ,  0.98    ,  1.193331,  0.9     ],\n",
       "       [13.08    , 14.06    ,  0.98    ,  0.817439,  0.9     ],\n",
       "       [13.08    , 14.06    ,  0.98    ,  1.13    ,  0.79659 ],\n",
       "       [13.08    , 14.06    ,  0.98    ,  1.13    ,  0.830222],\n",
       "       [13.08    , 14.06    ,  0.98    ,  1.13    ,  1.082326],\n",
       "       [13.08    , 14.06    ,  0.98    ,  1.13    ,  0.881379],\n",
       "       [13.08    , 14.06    ,  0.98    ,  1.13    ,  0.797946],\n",
       "       [13.088658, 14.108015,  0.98    ,  1.13    ,  0.9     ],\n",
       "       [13.151788, 14.076022,  0.98    ,  1.13    ,  0.9     ],\n",
       "       [13.00443 , 14.064617,  0.98    ,  1.13    ,  0.9     ],\n",
       "       [12.992627, 14.095053,  0.98    ,  1.13    ,  0.9     ],\n",
       "       [13.020014, 14.104691,  0.98    ,  1.13    ,  0.9     ],\n",
       "       [13.088658, 14.06    ,  1.119949,  1.13    ,  0.9     ],\n",
       "       [13.151788, 14.06    ,  0.960017,  1.13    ,  0.9     ],\n",
       "       [13.00443 , 14.06    ,  1.004321,  1.13    ,  0.9     ],\n",
       "       [12.992627, 14.06    ,  0.846928,  1.13    ,  0.9     ],\n",
       "       [13.020014, 14.06    ,  0.936223,  1.13    ,  0.9     ],\n",
       "       [13.088658, 14.06    ,  0.98    ,  0.827957,  0.9     ],\n",
       "       [13.151788, 14.06    ,  0.98    ,  1.061453,  0.9     ],\n",
       "       [13.00443 , 14.06    ,  0.98    ,  1.238876,  0.9     ],\n",
       "       [12.992627, 14.06    ,  0.98    ,  1.193331,  0.9     ],\n",
       "       [13.020014, 14.06    ,  0.98    ,  0.817439,  0.9     ],\n",
       "       [13.088658, 14.06    ,  0.98    ,  1.13    ,  0.79659 ],\n",
       "       [13.151788, 14.06    ,  0.98    ,  1.13    ,  0.830222],\n",
       "       [13.00443 , 14.06    ,  0.98    ,  1.13    ,  1.082326],\n",
       "       [12.992627, 14.06    ,  0.98    ,  1.13    ,  0.881379],\n",
       "       [13.020014, 14.06    ,  0.98    ,  1.13    ,  0.797946]])"
      ]
     },
     "execution_count": 33,
     "metadata": {},
     "output_type": "execute_result"
    }
   ],
   "source": [
    "par"
   ]
  },
  {
   "cell_type": "code",
   "execution_count": 38,
   "metadata": {},
   "outputs": [],
   "source": [
    "par2 = np.c_[np.repeat(val['logMcut_fid'],5),b,c,np.repeat(val['kappa_fid'],5),np.repeat(val['alpha_fid'],5)]\n",
    "par = np.vstack([par,par2])\n",
    "par2 = np.c_[np.repeat(val['logMcut_fid'],5),b,np.repeat(val['sigma_fid'],5),d,np.repeat(val['alpha_fid'],5)]\n",
    "par = np.vstack([par,par2])\n",
    "par2 = np.c_[np.repeat(val['logMcut_fid'],5),b,np.repeat(val['sigma_fid'],5),np.repeat(val['kappa_fid'],5),e]\n",
    "par = np.vstack([par,par2])"
   ]
  },
  {
   "cell_type": "code",
   "execution_count": 39,
   "metadata": {},
   "outputs": [
    {
     "data": {
      "text/plain": [
       "array([[13.088658, 14.06    ,  0.98    ,  1.13    ,  0.9     ],\n",
       "       [13.151788, 14.06    ,  0.98    ,  1.13    ,  0.9     ],\n",
       "       [13.00443 , 14.06    ,  0.98    ,  1.13    ,  0.9     ],\n",
       "       [12.992627, 14.06    ,  0.98    ,  1.13    ,  0.9     ],\n",
       "       [13.020014, 14.06    ,  0.98    ,  1.13    ,  0.9     ],\n",
       "       [13.08    , 14.108015,  0.98    ,  1.13    ,  0.9     ],\n",
       "       [13.08    , 14.076022,  0.98    ,  1.13    ,  0.9     ],\n",
       "       [13.08    , 14.064617,  0.98    ,  1.13    ,  0.9     ],\n",
       "       [13.08    , 14.095053,  0.98    ,  1.13    ,  0.9     ],\n",
       "       [13.08    , 14.104691,  0.98    ,  1.13    ,  0.9     ],\n",
       "       [13.08    , 14.06    ,  1.119949,  1.13    ,  0.9     ],\n",
       "       [13.08    , 14.06    ,  0.960017,  1.13    ,  0.9     ],\n",
       "       [13.08    , 14.06    ,  1.004321,  1.13    ,  0.9     ],\n",
       "       [13.08    , 14.06    ,  0.846928,  1.13    ,  0.9     ],\n",
       "       [13.08    , 14.06    ,  0.936223,  1.13    ,  0.9     ],\n",
       "       [13.08    , 14.06    ,  0.98    ,  0.827957,  0.9     ],\n",
       "       [13.08    , 14.06    ,  0.98    ,  1.061453,  0.9     ],\n",
       "       [13.08    , 14.06    ,  0.98    ,  1.238876,  0.9     ],\n",
       "       [13.08    , 14.06    ,  0.98    ,  1.193331,  0.9     ],\n",
       "       [13.08    , 14.06    ,  0.98    ,  0.817439,  0.9     ],\n",
       "       [13.08    , 14.06    ,  0.98    ,  1.13    ,  0.79659 ],\n",
       "       [13.08    , 14.06    ,  0.98    ,  1.13    ,  0.830222],\n",
       "       [13.08    , 14.06    ,  0.98    ,  1.13    ,  1.082326],\n",
       "       [13.08    , 14.06    ,  0.98    ,  1.13    ,  0.881379],\n",
       "       [13.08    , 14.06    ,  0.98    ,  1.13    ,  0.797946],\n",
       "       [13.088658, 14.108015,  0.98    ,  1.13    ,  0.9     ],\n",
       "       [13.151788, 14.076022,  0.98    ,  1.13    ,  0.9     ],\n",
       "       [13.00443 , 14.064617,  0.98    ,  1.13    ,  0.9     ],\n",
       "       [12.992627, 14.095053,  0.98    ,  1.13    ,  0.9     ],\n",
       "       [13.020014, 14.104691,  0.98    ,  1.13    ,  0.9     ],\n",
       "       [13.088658, 14.06    ,  1.119949,  1.13    ,  0.9     ],\n",
       "       [13.151788, 14.06    ,  0.960017,  1.13    ,  0.9     ],\n",
       "       [13.00443 , 14.06    ,  1.004321,  1.13    ,  0.9     ],\n",
       "       [12.992627, 14.06    ,  0.846928,  1.13    ,  0.9     ],\n",
       "       [13.020014, 14.06    ,  0.936223,  1.13    ,  0.9     ],\n",
       "       [13.088658, 14.06    ,  0.98    ,  0.827957,  0.9     ],\n",
       "       [13.151788, 14.06    ,  0.98    ,  1.061453,  0.9     ],\n",
       "       [13.00443 , 14.06    ,  0.98    ,  1.238876,  0.9     ],\n",
       "       [12.992627, 14.06    ,  0.98    ,  1.193331,  0.9     ],\n",
       "       [13.020014, 14.06    ,  0.98    ,  0.817439,  0.9     ],\n",
       "       [13.088658, 14.06    ,  0.98    ,  1.13    ,  0.79659 ],\n",
       "       [13.151788, 14.06    ,  0.98    ,  1.13    ,  0.830222],\n",
       "       [13.00443 , 14.06    ,  0.98    ,  1.13    ,  1.082326],\n",
       "       [12.992627, 14.06    ,  0.98    ,  1.13    ,  0.881379],\n",
       "       [13.020014, 14.06    ,  0.98    ,  1.13    ,  0.797946],\n",
       "       [13.08    , 14.108015,  0.98    ,  1.13    ,  0.9     ],\n",
       "       [13.08    , 14.076022,  0.98    ,  1.13    ,  0.9     ],\n",
       "       [13.08    , 14.064617,  0.98    ,  1.13    ,  0.9     ],\n",
       "       [13.08    , 14.095053,  0.98    ,  1.13    ,  0.9     ],\n",
       "       [13.08    , 14.104691,  0.98    ,  1.13    ,  0.9     ],\n",
       "       [13.08    , 14.108015,  1.119949,  1.13    ,  0.9     ],\n",
       "       [13.08    , 14.076022,  0.960017,  1.13    ,  0.9     ],\n",
       "       [13.08    , 14.064617,  1.004321,  1.13    ,  0.9     ],\n",
       "       [13.08    , 14.095053,  0.846928,  1.13    ,  0.9     ],\n",
       "       [13.08    , 14.104691,  0.936223,  1.13    ,  0.9     ],\n",
       "       [13.08    , 14.108015,  1.119949,  1.13    ,  0.9     ],\n",
       "       [13.08    , 14.076022,  0.960017,  1.13    ,  0.9     ],\n",
       "       [13.08    , 14.064617,  1.004321,  1.13    ,  0.9     ],\n",
       "       [13.08    , 14.095053,  0.846928,  1.13    ,  0.9     ],\n",
       "       [13.08    , 14.104691,  0.936223,  1.13    ,  0.9     ],\n",
       "       [13.08    , 14.108015,  0.98    ,  0.827957,  0.9     ],\n",
       "       [13.08    , 14.076022,  0.98    ,  1.061453,  0.9     ],\n",
       "       [13.08    , 14.064617,  0.98    ,  1.238876,  0.9     ],\n",
       "       [13.08    , 14.095053,  0.98    ,  1.193331,  0.9     ],\n",
       "       [13.08    , 14.104691,  0.98    ,  0.817439,  0.9     ],\n",
       "       [13.08    , 14.108015,  0.98    ,  1.13    ,  0.79659 ],\n",
       "       [13.08    , 14.076022,  0.98    ,  1.13    ,  0.830222],\n",
       "       [13.08    , 14.064617,  0.98    ,  1.13    ,  1.082326],\n",
       "       [13.08    , 14.095053,  0.98    ,  1.13    ,  0.881379],\n",
       "       [13.08    , 14.104691,  0.98    ,  1.13    ,  0.797946]])"
      ]
     },
     "execution_count": 39,
     "metadata": {},
     "output_type": "execute_result"
    }
   ],
   "source": [
    "par"
   ]
  },
  {
   "cell_type": "code",
   "execution_count": 40,
   "metadata": {},
   "outputs": [
    {
     "data": {
      "text/plain": [
       "(70, 5)"
      ]
     },
     "execution_count": 40,
     "metadata": {},
     "output_type": "execute_result"
    }
   ],
   "source": [
    "par.shape"
   ]
  },
  {
   "cell_type": "code",
   "execution_count": 43,
   "metadata": {},
   "outputs": [],
   "source": [
    "par = np.vstack([par[:55,:],par[60:,:]])"
   ]
  },
  {
   "cell_type": "code",
   "execution_count": 47,
   "metadata": {},
   "outputs": [],
   "source": [
    "par = np.vstack([par[:45,:],par[50:,:]])"
   ]
  },
  {
   "cell_type": "code",
   "execution_count": 50,
   "metadata": {},
   "outputs": [
    {
     "data": {
      "text/plain": [
       "(60, 5)"
      ]
     },
     "execution_count": 50,
     "metadata": {},
     "output_type": "execute_result"
    }
   ],
   "source": [
    "par.shape"
   ]
  },
  {
   "cell_type": "code",
   "execution_count": 51,
   "metadata": {},
   "outputs": [],
   "source": [
    "par2 = np.c_[np.repeat(val['logMcut_fid'],5),np.repeat(val['logM1_fid'],5),c,d,np.repeat(val['alpha_fid'],5)]\n",
    "par = np.vstack([par,par2])\n",
    "par2 = np.c_[np.repeat(val['logMcut_fid'],5),np.repeat(val['logM1_fid'],5),c,np.repeat(val['kappa_fid'],5),e]\n",
    "par = np.vstack([par,par2])"
   ]
  },
  {
   "cell_type": "code",
   "execution_count": 52,
   "metadata": {},
   "outputs": [
    {
     "data": {
      "text/plain": [
       "(70, 5)"
      ]
     },
     "execution_count": 52,
     "metadata": {},
     "output_type": "execute_result"
    }
   ],
   "source": [
    "par.shape"
   ]
  },
  {
   "cell_type": "code",
   "execution_count": 53,
   "metadata": {},
   "outputs": [],
   "source": [
    "par2 = np.c_[np.repeat(val['logMcut_fid'],5),np.repeat(val['logM1_fid'],5),np.repeat(val['sigma_fid'],5),d,e]\n",
    "par = np.vstack([par,par2])"
   ]
  },
  {
   "cell_type": "code",
   "execution_count": 54,
   "metadata": {},
   "outputs": [
    {
     "data": {
      "text/plain": [
       "(75, 5)"
      ]
     },
     "execution_count": 54,
     "metadata": {},
     "output_type": "execute_result"
    }
   ],
   "source": [
    "par.shape"
   ]
  },
  {
   "cell_type": "code",
   "execution_count": 56,
   "metadata": {},
   "outputs": [],
   "source": [
    "np.savetxt('parameters.txt',par,fmt='%f')"
   ]
  },
  {
   "cell_type": "code",
   "execution_count": 97,
   "metadata": {},
   "outputs": [],
   "source": [
    "import time\n",
    "rows,cols = par.shape\n",
    "    "
   ]
  },
  {
   "cell_type": "code",
   "execution_count": 105,
   "metadata": {},
   "outputs": [
    {
     "ename": "IndexError",
     "evalue": "arrays used as indices must be of integer (or boolean) type",
     "output_type": "error",
     "traceback": [
      "\u001b[0;31m---------------------------------------------------------------------------\u001b[0m",
      "\u001b[0;31mIndexError\u001b[0m                                Traceback (most recent call last)",
      "\u001b[0;32m<ipython-input-105-738074fe8e22>\u001b[0m in \u001b[0;36m<module>\u001b[0;34m\u001b[0m\n\u001b[1;32m      1\u001b[0m \u001b[0;32mfor\u001b[0m \u001b[0mi\u001b[0m \u001b[0;32min\u001b[0m \u001b[0mpar\u001b[0m\u001b[0;34m:\u001b[0m\u001b[0;34m\u001b[0m\u001b[0;34m\u001b[0m\u001b[0m\n\u001b[0;32m----> 2\u001b[0;31m     \u001b[0mprint\u001b[0m \u001b[0;34m(\u001b[0m\u001b[0mpar\u001b[0m\u001b[0;34m[\u001b[0m\u001b[0mi\u001b[0m\u001b[0;34m]\u001b[0m\u001b[0;34m.\u001b[0m\u001b[0mshape\u001b[0m\u001b[0;34m)\u001b[0m\u001b[0;34m\u001b[0m\u001b[0;34m\u001b[0m\u001b[0m\n\u001b[0m",
      "\u001b[0;31mIndexError\u001b[0m: arrays used as indices must be of integer (or boolean) type"
     ]
    }
   ],
   "source": []
  },
  {
   "cell_type": "code",
   "execution_count": null,
   "metadata": {},
   "outputs": [],
   "source": []
  }
 ],
 "metadata": {
  "kernelspec": {
   "display_name": "Python 3",
   "language": "python",
   "name": "python3"
  },
  "language_info": {
   "codemirror_mode": {
    "name": "ipython",
    "version": 3
   },
   "file_extension": ".py",
   "mimetype": "text/x-python",
   "name": "python",
   "nbconvert_exporter": "python",
   "pygments_lexer": "ipython3",
   "version": "3.7.3"
  }
 },
 "nbformat": 4,
 "nbformat_minor": 2
}
